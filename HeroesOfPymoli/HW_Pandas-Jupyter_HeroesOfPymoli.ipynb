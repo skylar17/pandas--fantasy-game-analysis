{
 "cells": [
  {
   "cell_type": "markdown",
   "metadata": {},
   "source": [
    "# Heroes Of Pymoli Data Analysis"
   ]
  },
  {
   "cell_type": "markdown",
   "metadata": {},
   "source": [
    "* The analysis shows that, vast majority of active players are Male(84%).There also exists, a smaller, but notable proportion of female players (14%).\\\n",
    "So, we can conclude that males are more inclined to play fantasy games than female.\n",
    "\n",
    "\n",
    "* Our peak age demographic falls between 20-24 (44.8%) with secondary groups falling between 15-19 (18.60%) and 25-29 (13.4%).\n",
    "\n"
   ]
  },
  {
   "cell_type": "code",
   "execution_count": 1,
   "metadata": {},
   "outputs": [],
   "source": [
    "# Dependencies and Setup\n",
    "import pandas as pd\n",
    "\n",
    "# File to Load (Remember to Change These)\n",
    "source_file = \"Resources_HeroesOfPymoli/purchase_data.csv\"\n",
    "\n",
    "# Read Purchasing File and store into Pandas data frame\n",
    "purchase_data = pd.read_csv(source_file)"
   ]
  },
  {
   "cell_type": "markdown",
   "metadata": {},
   "source": [
    "## Player Count"
   ]
  },
  {
   "cell_type": "markdown",
   "metadata": {},
   "source": [
    "* Total Number of Players"
   ]
  },
  {
   "cell_type": "code",
   "execution_count": 2,
   "metadata": {},
   "outputs": [
    {
     "data": {
      "text/html": [
       "<div>\n",
       "<style scoped>\n",
       "    .dataframe tbody tr th:only-of-type {\n",
       "        vertical-align: middle;\n",
       "    }\n",
       "\n",
       "    .dataframe tbody tr th {\n",
       "        vertical-align: top;\n",
       "    }\n",
       "\n",
       "    .dataframe thead th {\n",
       "        text-align: right;\n",
       "    }\n",
       "</style>\n",
       "<table border=\"1\" class=\"dataframe\">\n",
       "  <thead>\n",
       "    <tr style=\"text-align: right;\">\n",
       "      <th></th>\n",
       "      <th>Total Player</th>\n",
       "    </tr>\n",
       "  </thead>\n",
       "  <tbody>\n",
       "    <tr>\n",
       "      <th>0</th>\n",
       "      <td>576</td>\n",
       "    </tr>\n",
       "  </tbody>\n",
       "</table>\n",
       "</div>"
      ],
      "text/plain": [
       "   Total Player\n",
       "0           576"
      ]
     },
     "execution_count": 2,
     "metadata": {},
     "output_type": "execute_result"
    }
   ],
   "source": [
    "total_players = len(purchase_data[\"SN\"].unique())\n",
    "\n",
    "#total_players\n",
    "\n",
    "summary_total_players = pd.DataFrame({\"Total Player\": [total_players]})\n",
    "summary_total_players"
   ]
  },
  {
   "cell_type": "markdown",
   "metadata": {},
   "source": [
    "## Purchasing Analysis (Total)"
   ]
  },
  {
   "cell_type": "code",
   "execution_count": 3,
   "metadata": {},
   "outputs": [
    {
     "data": {
      "text/html": [
       "<style  type=\"text/css\" >\n",
       "</style><table id=\"T_7a477400_aad9_11ea_a88a_a29bf5fdee78\" ><thead>    <tr>        <th class=\"blank level0\" ></th>        <th class=\"col_heading level0 col0\" >Number of Unique Items</th>        <th class=\"col_heading level0 col1\" >Average Price</th>        <th class=\"col_heading level0 col2\" >Number of Purchases</th>        <th class=\"col_heading level0 col3\" >Total Revenue</th>    </tr></thead><tbody>\n",
       "                <tr>\n",
       "                        <th id=\"T_7a477400_aad9_11ea_a88a_a29bf5fdee78level0_row0\" class=\"row_heading level0 row0\" >0</th>\n",
       "                        <td id=\"T_7a477400_aad9_11ea_a88a_a29bf5fdee78row0_col0\" class=\"data row0 col0\" >179</td>\n",
       "                        <td id=\"T_7a477400_aad9_11ea_a88a_a29bf5fdee78row0_col1\" class=\"data row0 col1\" >$3.05</td>\n",
       "                        <td id=\"T_7a477400_aad9_11ea_a88a_a29bf5fdee78row0_col2\" class=\"data row0 col2\" >780</td>\n",
       "                        <td id=\"T_7a477400_aad9_11ea_a88a_a29bf5fdee78row0_col3\" class=\"data row0 col3\" >$2,379.77</td>\n",
       "            </tr>\n",
       "    </tbody></table>"
      ],
      "text/plain": [
       "<pandas.io.formats.style.Styler at 0x15d939ccf88>"
      ]
     },
     "execution_count": 3,
     "metadata": {},
     "output_type": "execute_result"
    }
   ],
   "source": [
    "# Number of Unique Items\n",
    "total_unique_items = len(purchase_data[\"Item ID\"].unique())\n",
    "\n",
    "# Average Purchase Price\n",
    "ave_price = round(purchase_data[\"Price\"].mean(),2)\n",
    "\n",
    "# Total Number of Purchases\n",
    "total_purchases = len(purchase_data[\"Price\"])\n",
    "\n",
    "\n",
    "# Total Revenue\n",
    "total_revenue = purchase_data[\"Price\"].sum()\n",
    "\n",
    "\n",
    "\n",
    "summary_purchasing_analysis = pd.DataFrame({\"Number of Unique Items\": [total_unique_items],\n",
    "                                            \"Average Price\": \"$\"+str(ave_price),\n",
    "                                            \"Number of Purchases\": [total_purchases],\n",
    "                                            \"Total Revenue\": (total_revenue)})\n",
    "\n",
    "summary_purchasing_analysis.style.format({\"Total Revenue\":\"${:,.2f}\"})"
   ]
  },
  {
   "cell_type": "markdown",
   "metadata": {},
   "source": [
    "## Gender Demographics"
   ]
  },
  {
   "cell_type": "code",
   "execution_count": 4,
   "metadata": {},
   "outputs": [
    {
     "data": {
      "text/html": [
       "<style  type=\"text/css\" >\n",
       "</style><table id=\"T_7a4db14a_aad9_11ea_a112_a29bf5fdee78\" ><thead>    <tr>        <th class=\"blank level0\" ></th>        <th class=\"col_heading level0 col0\" >Total Count</th>        <th class=\"col_heading level0 col1\" >Percentage of Players</th>    </tr>    <tr>        <th class=\"index_name level0\" >Gender</th>        <th class=\"blank\" ></th>        <th class=\"blank\" ></th>    </tr></thead><tbody>\n",
       "                <tr>\n",
       "                        <th id=\"T_7a4db14a_aad9_11ea_a112_a29bf5fdee78level0_row0\" class=\"row_heading level0 row0\" >Male</th>\n",
       "                        <td id=\"T_7a4db14a_aad9_11ea_a112_a29bf5fdee78row0_col0\" class=\"data row0 col0\" >484</td>\n",
       "                        <td id=\"T_7a4db14a_aad9_11ea_a112_a29bf5fdee78row0_col1\" class=\"data row0 col1\" >84.03%</td>\n",
       "            </tr>\n",
       "            <tr>\n",
       "                        <th id=\"T_7a4db14a_aad9_11ea_a112_a29bf5fdee78level0_row1\" class=\"row_heading level0 row1\" >Female</th>\n",
       "                        <td id=\"T_7a4db14a_aad9_11ea_a112_a29bf5fdee78row1_col0\" class=\"data row1 col0\" >81</td>\n",
       "                        <td id=\"T_7a4db14a_aad9_11ea_a112_a29bf5fdee78row1_col1\" class=\"data row1 col1\" >14.06%</td>\n",
       "            </tr>\n",
       "            <tr>\n",
       "                        <th id=\"T_7a4db14a_aad9_11ea_a112_a29bf5fdee78level0_row2\" class=\"row_heading level0 row2\" >Other / Non-Disclosed</th>\n",
       "                        <td id=\"T_7a4db14a_aad9_11ea_a112_a29bf5fdee78row2_col0\" class=\"data row2 col0\" >11</td>\n",
       "                        <td id=\"T_7a4db14a_aad9_11ea_a112_a29bf5fdee78row2_col1\" class=\"data row2 col1\" >1.91%</td>\n",
       "            </tr>\n",
       "    </tbody></table>"
      ],
      "text/plain": [
       "<pandas.io.formats.style.Styler at 0x15d945d1248>"
      ]
     },
     "execution_count": 4,
     "metadata": {},
     "output_type": "execute_result"
    }
   ],
   "source": [
    "# Percentage and Count of Male, Female & Other / Non-Disclosed Players\n",
    "\n",
    "gender_group = purchase_data.groupby(\"Gender\")\n",
    "\n",
    "\n",
    "count_of_players = gender_group.nunique()[\"SN\"]\n",
    "\n",
    "\n",
    "percent_of_players = round((count_of_players/total_players) * 100, 2)\n",
    "\n",
    "\n",
    "\n",
    "summary_gender_demographics = pd.DataFrame({\"Total Count\": (count_of_players), \n",
    "                                            \"Percentage of Players\": (percent_of_players) })\n",
    "\n",
    "summary_gender_demographics.sort_values([\"Total Count\"], ascending = False).style.format({\"Percentage of Players\":\"{:.2f}%\"})"
   ]
  },
  {
   "cell_type": "markdown",
   "metadata": {},
   "source": [
    "## Purchasing Analysis (Gender)"
   ]
  },
  {
   "cell_type": "code",
   "execution_count": 5,
   "metadata": {},
   "outputs": [
    {
     "data": {
      "text/html": [
       "<style  type=\"text/css\" >\n",
       "</style><table id=\"T_7a75da64_aad9_11ea_87b1_a29bf5fdee78\" ><thead>    <tr>        <th class=\"blank level0\" ></th>        <th class=\"col_heading level0 col0\" >Purchase Count</th>        <th class=\"col_heading level0 col1\" >Average Purchase Price</th>        <th class=\"col_heading level0 col2\" >Total Purchase Value</th>        <th class=\"col_heading level0 col3\" >Avg Total Purchase per Person</th>    </tr>    <tr>        <th class=\"index_name level0\" >Gender</th>        <th class=\"blank\" ></th>        <th class=\"blank\" ></th>        <th class=\"blank\" ></th>        <th class=\"blank\" ></th>    </tr></thead><tbody>\n",
       "                <tr>\n",
       "                        <th id=\"T_7a75da64_aad9_11ea_87b1_a29bf5fdee78level0_row0\" class=\"row_heading level0 row0\" >Female</th>\n",
       "                        <td id=\"T_7a75da64_aad9_11ea_87b1_a29bf5fdee78row0_col0\" class=\"data row0 col0\" >113</td>\n",
       "                        <td id=\"T_7a75da64_aad9_11ea_87b1_a29bf5fdee78row0_col1\" class=\"data row0 col1\" >$3.20</td>\n",
       "                        <td id=\"T_7a75da64_aad9_11ea_87b1_a29bf5fdee78row0_col2\" class=\"data row0 col2\" >$361.94</td>\n",
       "                        <td id=\"T_7a75da64_aad9_11ea_87b1_a29bf5fdee78row0_col3\" class=\"data row0 col3\" >$4.47</td>\n",
       "            </tr>\n",
       "            <tr>\n",
       "                        <th id=\"T_7a75da64_aad9_11ea_87b1_a29bf5fdee78level0_row1\" class=\"row_heading level0 row1\" >Male</th>\n",
       "                        <td id=\"T_7a75da64_aad9_11ea_87b1_a29bf5fdee78row1_col0\" class=\"data row1 col0\" >652</td>\n",
       "                        <td id=\"T_7a75da64_aad9_11ea_87b1_a29bf5fdee78row1_col1\" class=\"data row1 col1\" >$3.02</td>\n",
       "                        <td id=\"T_7a75da64_aad9_11ea_87b1_a29bf5fdee78row1_col2\" class=\"data row1 col2\" >$1,967.64</td>\n",
       "                        <td id=\"T_7a75da64_aad9_11ea_87b1_a29bf5fdee78row1_col3\" class=\"data row1 col3\" >$4.07</td>\n",
       "            </tr>\n",
       "            <tr>\n",
       "                        <th id=\"T_7a75da64_aad9_11ea_87b1_a29bf5fdee78level0_row2\" class=\"row_heading level0 row2\" >Other / Non-Disclosed</th>\n",
       "                        <td id=\"T_7a75da64_aad9_11ea_87b1_a29bf5fdee78row2_col0\" class=\"data row2 col0\" >15</td>\n",
       "                        <td id=\"T_7a75da64_aad9_11ea_87b1_a29bf5fdee78row2_col1\" class=\"data row2 col1\" >$3.35</td>\n",
       "                        <td id=\"T_7a75da64_aad9_11ea_87b1_a29bf5fdee78row2_col2\" class=\"data row2 col2\" >$50.19</td>\n",
       "                        <td id=\"T_7a75da64_aad9_11ea_87b1_a29bf5fdee78row2_col3\" class=\"data row2 col3\" >$4.56</td>\n",
       "            </tr>\n",
       "    </tbody></table>"
      ],
      "text/plain": [
       "<pandas.io.formats.style.Styler at 0x15d94865e48>"
      ]
     },
     "execution_count": 5,
     "metadata": {},
     "output_type": "execute_result"
    }
   ],
   "source": [
    "#The below each broken by gender\n",
    "gender_group = purchase_data.groupby([\"Gender\"])\n",
    "\n",
    "\n",
    "\n",
    "    # Purchase Count\n",
    "gen_pur_count = gender_group[\"Price\"].count()\n",
    "#pur_count.head()\n",
    "\n",
    "\n",
    "    # Average Purchase Price\n",
    "gen_ave_pur_price = round(gender_group[\"Price\"].mean(),2)\n",
    "\n",
    "   \n",
    "    # Total Purchase Value\n",
    "gen_total_pur_value = gender_group[\"Price\"].sum()\n",
    "\n",
    "    \n",
    "    # Average Purchase Total per Person by Gender \n",
    "ave_pur_per_person = gen_total_pur_value/summary_gender_demographics[\"Total Count\"]\n",
    "\n",
    "\n",
    "\n",
    "\n",
    "summary_gen_pur_analysis = pd.DataFrame({\"Purchase Count\": gen_pur_count,\n",
    "                                         \"Average Purchase Price\": gen_ave_pur_price,\n",
    "                                         \"Total Purchase Value\": gen_total_pur_value,\n",
    "                                         \"Avg Total Purchase per Person\": ave_pur_per_person})\n",
    "\n",
    "summary_gen_pur_analysis.style.format({\"Average Purchase Price\":\"${:.2f}\",\n",
    "                                        \"Total Purchase Value\":\"${:,.2f}\",\n",
    "                                        \"Avg Total Purchase per Person\":\"${:,.2f}\"})"
   ]
  },
  {
   "cell_type": "markdown",
   "metadata": {},
   "source": [
    "## Age Demographics"
   ]
  },
  {
   "cell_type": "code",
   "execution_count": 6,
   "metadata": {},
   "outputs": [
    {
     "name": "stdout",
     "output_type": "stream",
     "text": [
      "7\n",
      "45\n"
     ]
    }
   ],
   "source": [
    "# Figure out the minimum and maximum values for Age column\n",
    "\n",
    "print(purchase_data[\"Age\"].min())\n",
    "print(purchase_data[\"Age\"].max())\n"
   ]
  },
  {
   "cell_type": "code",
   "execution_count": 16,
   "metadata": {},
   "outputs": [],
   "source": [
    "# Create bins in which to place values based upon Age column\n",
    "bins = [0, 9.90, 14.90, 19.90, 24.90, 29.90, 34.90, 39.90, 99999]\n",
    "\n",
    "# Create labels for these bins\n",
    "group_labels = [\"<10\", \"10-14\", \"15-19\", \"20-24\", \"25-29\", \"30-34\", \"35-39\", \"40+\"]\n",
    "\n"
   ]
  },
  {
   "cell_type": "code",
   "execution_count": 17,
   "metadata": {},
   "outputs": [],
   "source": [
    "# Place the data series into a new column inside of the DataFrame\n",
    "purchase_data[\"Age Group\"] = pd.cut(purchase_data[\"Age\"], bins, labels = group_labels)\n",
    "#purchase_data"
   ]
  },
  {
   "cell_type": "code",
   "execution_count": 18,
   "metadata": {},
   "outputs": [],
   "source": [
    "# Create a GroupBy object based upon \"Age Group\"\n",
    "age_group = purchase_data.groupby(\"Age Group\")\n",
    "\n",
    "#age_group.head()"
   ]
  },
  {
   "cell_type": "markdown",
   "metadata": {},
   "source": [
    "## Purchasing Analysis (Age)"
   ]
  },
  {
   "cell_type": "code",
   "execution_count": 32,
   "metadata": {},
   "outputs": [
    {
     "data": {
      "text/html": [
       "<style  type=\"text/css\" >\n",
       "</style><table id=\"T_5cc6da70_aadb_11ea_994b_a29bf5fdee78\" ><thead>    <tr>        <th class=\"blank level0\" ></th>        <th class=\"col_heading level0 col0\" >Purchase Count</th>        <th class=\"col_heading level0 col1\" >Average Purchase Price</th>        <th class=\"col_heading level0 col2\" >Total Purchase Value</th>        <th class=\"col_heading level0 col3\" >Avg Total Purchase per Person</th>    </tr>    <tr>        <th class=\"index_name level0\" >Age Group</th>        <th class=\"blank\" ></th>        <th class=\"blank\" ></th>        <th class=\"blank\" ></th>        <th class=\"blank\" ></th>    </tr></thead><tbody>\n",
       "                <tr>\n",
       "                        <th id=\"T_5cc6da70_aadb_11ea_994b_a29bf5fdee78level0_row0\" class=\"row_heading level0 row0\" ><10</th>\n",
       "                        <td id=\"T_5cc6da70_aadb_11ea_994b_a29bf5fdee78row0_col0\" class=\"data row0 col0\" >23</td>\n",
       "                        <td id=\"T_5cc6da70_aadb_11ea_994b_a29bf5fdee78row0_col1\" class=\"data row0 col1\" >$3.35</td>\n",
       "                        <td id=\"T_5cc6da70_aadb_11ea_994b_a29bf5fdee78row0_col2\" class=\"data row0 col2\" >$77.13</td>\n",
       "                        <td id=\"T_5cc6da70_aadb_11ea_994b_a29bf5fdee78row0_col3\" class=\"data row0 col3\" >$0.10</td>\n",
       "            </tr>\n",
       "            <tr>\n",
       "                        <th id=\"T_5cc6da70_aadb_11ea_994b_a29bf5fdee78level0_row1\" class=\"row_heading level0 row1\" >10-14</th>\n",
       "                        <td id=\"T_5cc6da70_aadb_11ea_994b_a29bf5fdee78row1_col0\" class=\"data row1 col0\" >28</td>\n",
       "                        <td id=\"T_5cc6da70_aadb_11ea_994b_a29bf5fdee78row1_col1\" class=\"data row1 col1\" >$2.96</td>\n",
       "                        <td id=\"T_5cc6da70_aadb_11ea_994b_a29bf5fdee78row1_col2\" class=\"data row1 col2\" >$82.78</td>\n",
       "                        <td id=\"T_5cc6da70_aadb_11ea_994b_a29bf5fdee78row1_col3\" class=\"data row1 col3\" >$0.11</td>\n",
       "            </tr>\n",
       "            <tr>\n",
       "                        <th id=\"T_5cc6da70_aadb_11ea_994b_a29bf5fdee78level0_row2\" class=\"row_heading level0 row2\" >15-19</th>\n",
       "                        <td id=\"T_5cc6da70_aadb_11ea_994b_a29bf5fdee78row2_col0\" class=\"data row2 col0\" >136</td>\n",
       "                        <td id=\"T_5cc6da70_aadb_11ea_994b_a29bf5fdee78row2_col1\" class=\"data row2 col1\" >$3.04</td>\n",
       "                        <td id=\"T_5cc6da70_aadb_11ea_994b_a29bf5fdee78row2_col2\" class=\"data row2 col2\" >$412.89</td>\n",
       "                        <td id=\"T_5cc6da70_aadb_11ea_994b_a29bf5fdee78row2_col3\" class=\"data row2 col3\" >$0.53</td>\n",
       "            </tr>\n",
       "            <tr>\n",
       "                        <th id=\"T_5cc6da70_aadb_11ea_994b_a29bf5fdee78level0_row3\" class=\"row_heading level0 row3\" >20-24</th>\n",
       "                        <td id=\"T_5cc6da70_aadb_11ea_994b_a29bf5fdee78row3_col0\" class=\"data row3 col0\" >365</td>\n",
       "                        <td id=\"T_5cc6da70_aadb_11ea_994b_a29bf5fdee78row3_col1\" class=\"data row3 col1\" >$3.05</td>\n",
       "                        <td id=\"T_5cc6da70_aadb_11ea_994b_a29bf5fdee78row3_col2\" class=\"data row3 col2\" >$1,114.06</td>\n",
       "                        <td id=\"T_5cc6da70_aadb_11ea_994b_a29bf5fdee78row3_col3\" class=\"data row3 col3\" >$1.43</td>\n",
       "            </tr>\n",
       "            <tr>\n",
       "                        <th id=\"T_5cc6da70_aadb_11ea_994b_a29bf5fdee78level0_row4\" class=\"row_heading level0 row4\" >25-29</th>\n",
       "                        <td id=\"T_5cc6da70_aadb_11ea_994b_a29bf5fdee78row4_col0\" class=\"data row4 col0\" >101</td>\n",
       "                        <td id=\"T_5cc6da70_aadb_11ea_994b_a29bf5fdee78row4_col1\" class=\"data row4 col1\" >$2.90</td>\n",
       "                        <td id=\"T_5cc6da70_aadb_11ea_994b_a29bf5fdee78row4_col2\" class=\"data row4 col2\" >$293.00</td>\n",
       "                        <td id=\"T_5cc6da70_aadb_11ea_994b_a29bf5fdee78row4_col3\" class=\"data row4 col3\" >$0.38</td>\n",
       "            </tr>\n",
       "            <tr>\n",
       "                        <th id=\"T_5cc6da70_aadb_11ea_994b_a29bf5fdee78level0_row5\" class=\"row_heading level0 row5\" >30-34</th>\n",
       "                        <td id=\"T_5cc6da70_aadb_11ea_994b_a29bf5fdee78row5_col0\" class=\"data row5 col0\" >73</td>\n",
       "                        <td id=\"T_5cc6da70_aadb_11ea_994b_a29bf5fdee78row5_col1\" class=\"data row5 col1\" >$2.93</td>\n",
       "                        <td id=\"T_5cc6da70_aadb_11ea_994b_a29bf5fdee78row5_col2\" class=\"data row5 col2\" >$214.00</td>\n",
       "                        <td id=\"T_5cc6da70_aadb_11ea_994b_a29bf5fdee78row5_col3\" class=\"data row5 col3\" >$0.27</td>\n",
       "            </tr>\n",
       "            <tr>\n",
       "                        <th id=\"T_5cc6da70_aadb_11ea_994b_a29bf5fdee78level0_row6\" class=\"row_heading level0 row6\" >35-39</th>\n",
       "                        <td id=\"T_5cc6da70_aadb_11ea_994b_a29bf5fdee78row6_col0\" class=\"data row6 col0\" >41</td>\n",
       "                        <td id=\"T_5cc6da70_aadb_11ea_994b_a29bf5fdee78row6_col1\" class=\"data row6 col1\" >$3.60</td>\n",
       "                        <td id=\"T_5cc6da70_aadb_11ea_994b_a29bf5fdee78row6_col2\" class=\"data row6 col2\" >$147.67</td>\n",
       "                        <td id=\"T_5cc6da70_aadb_11ea_994b_a29bf5fdee78row6_col3\" class=\"data row6 col3\" >$0.19</td>\n",
       "            </tr>\n",
       "            <tr>\n",
       "                        <th id=\"T_5cc6da70_aadb_11ea_994b_a29bf5fdee78level0_row7\" class=\"row_heading level0 row7\" >40+</th>\n",
       "                        <td id=\"T_5cc6da70_aadb_11ea_994b_a29bf5fdee78row7_col0\" class=\"data row7 col0\" >13</td>\n",
       "                        <td id=\"T_5cc6da70_aadb_11ea_994b_a29bf5fdee78row7_col1\" class=\"data row7 col1\" >$2.94</td>\n",
       "                        <td id=\"T_5cc6da70_aadb_11ea_994b_a29bf5fdee78row7_col2\" class=\"data row7 col2\" >$38.24</td>\n",
       "                        <td id=\"T_5cc6da70_aadb_11ea_994b_a29bf5fdee78row7_col3\" class=\"data row7 col3\" >$0.05</td>\n",
       "            </tr>\n",
       "    </tbody></table>"
      ],
      "text/plain": [
       "<pandas.io.formats.style.Styler at 0x15d948d7c88>"
      ]
     },
     "execution_count": 32,
     "metadata": {},
     "output_type": "execute_result"
    }
   ],
   "source": [
    "# Purchase Count\n",
    "age_pur_count = age_group[\"Price\"].count()\n",
    "# age_pur_count\n",
    "\n",
    "# Average Purchase Price\n",
    "age_ave_pur_price = round(age_group[\"Price\"].mean(),2)\n",
    "# age_ave_pur_price\n",
    "\n",
    "# Total Purchase Value\n",
    "age_total_pur_value = age_group[\"Price\"].sum()\n",
    "\n",
    "# Average Purchase Total per Person by Age Group\n",
    "age_ave_pur_per_person = age_total_pur_value / purchase_data[\"Age\"].count()\n",
    "\n",
    "\n",
    "\n",
    "summary_age_pur_analysis = pd.DataFrame({\"Purchase Count\": age_pur_count,\n",
    "                                         \"Average Purchase Price\": age_ave_pur_price,\n",
    "                                         \"Total Purchase Value\": age_total_pur_value,\n",
    "                                         \"Avg Total Purchase per Person\": age_ave_pur_per_person})\n",
    "    \n",
    "summary_age_pur_analysis.style.format({\"Average Purchase Price\": \"${:,.2f}\",\n",
    "                                       \"Total Purchase Value\": \"${:,.2f}\",\n",
    "                                       \"Avg Total Purchase per Person\": \"${:,.2f}\"})\n"
   ]
  },
  {
   "cell_type": "code",
   "execution_count": 37,
   "metadata": {},
   "outputs": [
    {
     "data": {
      "text/html": [
       "<style  type=\"text/css\" >\n",
       "</style><table id=\"T_67b341e8_aadc_11ea_a82f_a29bf5fdee78\" ><thead>    <tr>        <th class=\"blank level0\" ></th>        <th class=\"col_heading level0 col0\" >Total Count</th>        <th class=\"col_heading level0 col1\" >Percentage of Players</th>    </tr>    <tr>        <th class=\"index_name level0\" >Age Group</th>        <th class=\"blank\" ></th>        <th class=\"blank\" ></th>    </tr></thead><tbody>\n",
       "                <tr>\n",
       "                        <th id=\"T_67b341e8_aadc_11ea_a82f_a29bf5fdee78level0_row0\" class=\"row_heading level0 row0\" ><10</th>\n",
       "                        <td id=\"T_67b341e8_aadc_11ea_a82f_a29bf5fdee78row0_col0\" class=\"data row0 col0\" >17</td>\n",
       "                        <td id=\"T_67b341e8_aadc_11ea_a82f_a29bf5fdee78row0_col1\" class=\"data row0 col1\" >2.95%</td>\n",
       "            </tr>\n",
       "            <tr>\n",
       "                        <th id=\"T_67b341e8_aadc_11ea_a82f_a29bf5fdee78level0_row1\" class=\"row_heading level0 row1\" >10-14</th>\n",
       "                        <td id=\"T_67b341e8_aadc_11ea_a82f_a29bf5fdee78row1_col0\" class=\"data row1 col0\" >22</td>\n",
       "                        <td id=\"T_67b341e8_aadc_11ea_a82f_a29bf5fdee78row1_col1\" class=\"data row1 col1\" >3.82%</td>\n",
       "            </tr>\n",
       "            <tr>\n",
       "                        <th id=\"T_67b341e8_aadc_11ea_a82f_a29bf5fdee78level0_row2\" class=\"row_heading level0 row2\" >15-19</th>\n",
       "                        <td id=\"T_67b341e8_aadc_11ea_a82f_a29bf5fdee78row2_col0\" class=\"data row2 col0\" >107</td>\n",
       "                        <td id=\"T_67b341e8_aadc_11ea_a82f_a29bf5fdee78row2_col1\" class=\"data row2 col1\" >18.58%</td>\n",
       "            </tr>\n",
       "            <tr>\n",
       "                        <th id=\"T_67b341e8_aadc_11ea_a82f_a29bf5fdee78level0_row3\" class=\"row_heading level0 row3\" >20-24</th>\n",
       "                        <td id=\"T_67b341e8_aadc_11ea_a82f_a29bf5fdee78row3_col0\" class=\"data row3 col0\" >258</td>\n",
       "                        <td id=\"T_67b341e8_aadc_11ea_a82f_a29bf5fdee78row3_col1\" class=\"data row3 col1\" >44.79%</td>\n",
       "            </tr>\n",
       "            <tr>\n",
       "                        <th id=\"T_67b341e8_aadc_11ea_a82f_a29bf5fdee78level0_row4\" class=\"row_heading level0 row4\" >25-29</th>\n",
       "                        <td id=\"T_67b341e8_aadc_11ea_a82f_a29bf5fdee78row4_col0\" class=\"data row4 col0\" >77</td>\n",
       "                        <td id=\"T_67b341e8_aadc_11ea_a82f_a29bf5fdee78row4_col1\" class=\"data row4 col1\" >13.37%</td>\n",
       "            </tr>\n",
       "            <tr>\n",
       "                        <th id=\"T_67b341e8_aadc_11ea_a82f_a29bf5fdee78level0_row5\" class=\"row_heading level0 row5\" >30-34</th>\n",
       "                        <td id=\"T_67b341e8_aadc_11ea_a82f_a29bf5fdee78row5_col0\" class=\"data row5 col0\" >52</td>\n",
       "                        <td id=\"T_67b341e8_aadc_11ea_a82f_a29bf5fdee78row5_col1\" class=\"data row5 col1\" >9.03%</td>\n",
       "            </tr>\n",
       "            <tr>\n",
       "                        <th id=\"T_67b341e8_aadc_11ea_a82f_a29bf5fdee78level0_row6\" class=\"row_heading level0 row6\" >35-39</th>\n",
       "                        <td id=\"T_67b341e8_aadc_11ea_a82f_a29bf5fdee78row6_col0\" class=\"data row6 col0\" >31</td>\n",
       "                        <td id=\"T_67b341e8_aadc_11ea_a82f_a29bf5fdee78row6_col1\" class=\"data row6 col1\" >5.38%</td>\n",
       "            </tr>\n",
       "            <tr>\n",
       "                        <th id=\"T_67b341e8_aadc_11ea_a82f_a29bf5fdee78level0_row7\" class=\"row_heading level0 row7\" >40+</th>\n",
       "                        <td id=\"T_67b341e8_aadc_11ea_a82f_a29bf5fdee78row7_col0\" class=\"data row7 col0\" >12</td>\n",
       "                        <td id=\"T_67b341e8_aadc_11ea_a82f_a29bf5fdee78row7_col1\" class=\"data row7 col1\" >2.08%</td>\n",
       "            </tr>\n",
       "    </tbody></table>"
      ],
      "text/plain": [
       "<pandas.io.formats.style.Styler at 0x15d948e3fc8>"
      ]
     },
     "execution_count": 37,
     "metadata": {},
     "output_type": "execute_result"
    }
   ],
   "source": [
    "# Find how many players fall into each bin\n",
    "playersCount_by_ageGroup = age_group[\"SN\"].nunique()\n",
    "\n",
    "\n",
    "playersPercent_by_ageGroup = (playersCount_by_ageGroup / total_players) * 100\n",
    "\n",
    "\n",
    "\n",
    "summary_age_demograph = pd.DataFrame({\"Total Count\": playersCount_by_ageGroup,\n",
    "                                         \"Percentage of Players\": playersPercent_by_ageGroup})\n",
    "summary_age_demograph.style.format({\"Percentage of Players\":\"{:.2f}%\"})"
   ]
  },
  {
   "cell_type": "markdown",
   "metadata": {},
   "source": [
    "## Top Spenders"
   ]
  },
  {
   "cell_type": "code",
   "execution_count": 21,
   "metadata": {},
   "outputs": [
    {
     "data": {
      "text/html": [
       "<style  type=\"text/css\" >\n",
       "</style><table id=\"T_3b52bc22_aada_11ea_ad32_a29bf5fdee78\" ><thead>    <tr>        <th class=\"blank level0\" ></th>        <th class=\"col_heading level0 col0\" >Purchase Count</th>        <th class=\"col_heading level0 col1\" >Average Purchase Price</th>        <th class=\"col_heading level0 col2\" >Total Purchase Value</th>    </tr>    <tr>        <th class=\"index_name level0\" >SN</th>        <th class=\"blank\" ></th>        <th class=\"blank\" ></th>        <th class=\"blank\" ></th>    </tr></thead><tbody>\n",
       "                <tr>\n",
       "                        <th id=\"T_3b52bc22_aada_11ea_ad32_a29bf5fdee78level0_row0\" class=\"row_heading level0 row0\" >Lisosia93</th>\n",
       "                        <td id=\"T_3b52bc22_aada_11ea_ad32_a29bf5fdee78row0_col0\" class=\"data row0 col0\" >5</td>\n",
       "                        <td id=\"T_3b52bc22_aada_11ea_ad32_a29bf5fdee78row0_col1\" class=\"data row0 col1\" >$3.79</td>\n",
       "                        <td id=\"T_3b52bc22_aada_11ea_ad32_a29bf5fdee78row0_col2\" class=\"data row0 col2\" >$18.96</td>\n",
       "            </tr>\n",
       "            <tr>\n",
       "                        <th id=\"T_3b52bc22_aada_11ea_ad32_a29bf5fdee78level0_row1\" class=\"row_heading level0 row1\" >Idastidru52</th>\n",
       "                        <td id=\"T_3b52bc22_aada_11ea_ad32_a29bf5fdee78row1_col0\" class=\"data row1 col0\" >4</td>\n",
       "                        <td id=\"T_3b52bc22_aada_11ea_ad32_a29bf5fdee78row1_col1\" class=\"data row1 col1\" >$3.86</td>\n",
       "                        <td id=\"T_3b52bc22_aada_11ea_ad32_a29bf5fdee78row1_col2\" class=\"data row1 col2\" >$15.45</td>\n",
       "            </tr>\n",
       "            <tr>\n",
       "                        <th id=\"T_3b52bc22_aada_11ea_ad32_a29bf5fdee78level0_row2\" class=\"row_heading level0 row2\" >Chamjask73</th>\n",
       "                        <td id=\"T_3b52bc22_aada_11ea_ad32_a29bf5fdee78row2_col0\" class=\"data row2 col0\" >3</td>\n",
       "                        <td id=\"T_3b52bc22_aada_11ea_ad32_a29bf5fdee78row2_col1\" class=\"data row2 col1\" >$4.61</td>\n",
       "                        <td id=\"T_3b52bc22_aada_11ea_ad32_a29bf5fdee78row2_col2\" class=\"data row2 col2\" >$13.83</td>\n",
       "            </tr>\n",
       "            <tr>\n",
       "                        <th id=\"T_3b52bc22_aada_11ea_ad32_a29bf5fdee78level0_row3\" class=\"row_heading level0 row3\" >Iral74</th>\n",
       "                        <td id=\"T_3b52bc22_aada_11ea_ad32_a29bf5fdee78row3_col0\" class=\"data row3 col0\" >4</td>\n",
       "                        <td id=\"T_3b52bc22_aada_11ea_ad32_a29bf5fdee78row3_col1\" class=\"data row3 col1\" >$3.40</td>\n",
       "                        <td id=\"T_3b52bc22_aada_11ea_ad32_a29bf5fdee78row3_col2\" class=\"data row3 col2\" >$13.62</td>\n",
       "            </tr>\n",
       "            <tr>\n",
       "                        <th id=\"T_3b52bc22_aada_11ea_ad32_a29bf5fdee78level0_row4\" class=\"row_heading level0 row4\" >Iskadarya95</th>\n",
       "                        <td id=\"T_3b52bc22_aada_11ea_ad32_a29bf5fdee78row4_col0\" class=\"data row4 col0\" >3</td>\n",
       "                        <td id=\"T_3b52bc22_aada_11ea_ad32_a29bf5fdee78row4_col1\" class=\"data row4 col1\" >$4.37</td>\n",
       "                        <td id=\"T_3b52bc22_aada_11ea_ad32_a29bf5fdee78row4_col2\" class=\"data row4 col2\" >$13.10</td>\n",
       "            </tr>\n",
       "    </tbody></table>"
      ],
      "text/plain": [
       "<pandas.io.formats.style.Styler at 0x15d9186fd88>"
      ]
     },
     "execution_count": 21,
     "metadata": {},
     "output_type": "execute_result"
    }
   ],
   "source": [
    "\n",
    "uni_players_total_pur = (purchase_data.groupby([\"SN\"]).sum()[\"Price\"])\n",
    "# uni_players_total_pur.dtypes\n",
    "\n",
    "\n",
    "uni_players_pur_count = (purchase_data.groupby([\"SN\"]).count()[\"Price\"])\n",
    "# uni_players_pur_count.head()\n",
    "\n",
    "\n",
    "uni_players_ave_pur = uni_players_total_pur / uni_players_pur_count\n",
    "# uni_players_ave_pur\n",
    "\n",
    "\n",
    "\n",
    "\n",
    "summary_top_spenders = pd.DataFrame({\"Purchase Count\": uni_players_pur_count,\n",
    "                                     \"Average Purchase Price\": uni_players_ave_pur,\n",
    "                                     \"Total Purchase Value\": uni_players_total_pur})\n",
    "\n",
    "#--------------------------------------------------------------------------------------------\n",
    "top_spenders = summary_top_spenders.sort_values(\"Total Purchase Value\", ascending=False).head()\n",
    "\n",
    "\n",
    "\n",
    "\n",
    "#-----------------------------------------------------------\n",
    "top_spenders.style.format({\"Average Purchase Price\":\"${:,.2f}\",\n",
    "                           \"Total Purchase Value\":\"${:,.2f}\"})\n",
    "#------------------------------------------------------------\n",
    "\n",
    "\n"
   ]
  },
  {
   "cell_type": "code",
   "execution_count": null,
   "metadata": {},
   "outputs": [],
   "source": []
  },
  {
   "cell_type": "markdown",
   "metadata": {},
   "source": [
    "## Most Popular Items"
   ]
  },
  {
   "cell_type": "code",
   "execution_count": 13,
   "metadata": {},
   "outputs": [
    {
     "data": {
      "text/html": [
       "<style  type=\"text/css\" >\n",
       "</style><table id=\"T_7c67d398_aad9_11ea_aa1b_a29bf5fdee78\" ><thead>    <tr>        <th class=\"blank\" ></th>        <th class=\"blank level0\" ></th>        <th class=\"col_heading level0 col0\" >Purchase Count</th>        <th class=\"col_heading level0 col1\" >Item Price</th>        <th class=\"col_heading level0 col2\" >Total Purchase Value</th>    </tr>    <tr>        <th class=\"index_name level0\" >Item ID</th>        <th class=\"index_name level1\" >Item Name</th>        <th class=\"blank\" ></th>        <th class=\"blank\" ></th>        <th class=\"blank\" ></th>    </tr></thead><tbody>\n",
       "                <tr>\n",
       "                        <th id=\"T_7c67d398_aad9_11ea_aa1b_a29bf5fdee78level0_row0\" class=\"row_heading level0 row0\" >92</th>\n",
       "                        <th id=\"T_7c67d398_aad9_11ea_aa1b_a29bf5fdee78level1_row0\" class=\"row_heading level1 row0\" >Final Critic</th>\n",
       "                        <td id=\"T_7c67d398_aad9_11ea_aa1b_a29bf5fdee78row0_col0\" class=\"data row0 col0\" >13</td>\n",
       "                        <td id=\"T_7c67d398_aad9_11ea_aa1b_a29bf5fdee78row0_col1\" class=\"data row0 col1\" >$4.61</td>\n",
       "                        <td id=\"T_7c67d398_aad9_11ea_aa1b_a29bf5fdee78row0_col2\" class=\"data row0 col2\" >$59.99</td>\n",
       "            </tr>\n",
       "            <tr>\n",
       "                        <th id=\"T_7c67d398_aad9_11ea_aa1b_a29bf5fdee78level0_row1\" class=\"row_heading level0 row1\" >178</th>\n",
       "                        <th id=\"T_7c67d398_aad9_11ea_aa1b_a29bf5fdee78level1_row1\" class=\"row_heading level1 row1\" >Oathbreaker, Last Hope of the Breaking Storm</th>\n",
       "                        <td id=\"T_7c67d398_aad9_11ea_aa1b_a29bf5fdee78row1_col0\" class=\"data row1 col0\" >12</td>\n",
       "                        <td id=\"T_7c67d398_aad9_11ea_aa1b_a29bf5fdee78row1_col1\" class=\"data row1 col1\" >$4.23</td>\n",
       "                        <td id=\"T_7c67d398_aad9_11ea_aa1b_a29bf5fdee78row1_col2\" class=\"data row1 col2\" >$50.76</td>\n",
       "            </tr>\n",
       "            <tr>\n",
       "                        <th id=\"T_7c67d398_aad9_11ea_aa1b_a29bf5fdee78level0_row2\" class=\"row_heading level0 row2\" >145</th>\n",
       "                        <th id=\"T_7c67d398_aad9_11ea_aa1b_a29bf5fdee78level1_row2\" class=\"row_heading level1 row2\" >Fiery Glass Crusader</th>\n",
       "                        <td id=\"T_7c67d398_aad9_11ea_aa1b_a29bf5fdee78row2_col0\" class=\"data row2 col0\" >9</td>\n",
       "                        <td id=\"T_7c67d398_aad9_11ea_aa1b_a29bf5fdee78row2_col1\" class=\"data row2 col1\" >$4.58</td>\n",
       "                        <td id=\"T_7c67d398_aad9_11ea_aa1b_a29bf5fdee78row2_col2\" class=\"data row2 col2\" >$41.22</td>\n",
       "            </tr>\n",
       "            <tr>\n",
       "                        <th id=\"T_7c67d398_aad9_11ea_aa1b_a29bf5fdee78level0_row3\" class=\"row_heading level0 row3\" >132</th>\n",
       "                        <th id=\"T_7c67d398_aad9_11ea_aa1b_a29bf5fdee78level1_row3\" class=\"row_heading level1 row3\" >Persuasion</th>\n",
       "                        <td id=\"T_7c67d398_aad9_11ea_aa1b_a29bf5fdee78row3_col0\" class=\"data row3 col0\" >9</td>\n",
       "                        <td id=\"T_7c67d398_aad9_11ea_aa1b_a29bf5fdee78row3_col1\" class=\"data row3 col1\" >$3.22</td>\n",
       "                        <td id=\"T_7c67d398_aad9_11ea_aa1b_a29bf5fdee78row3_col2\" class=\"data row3 col2\" >$28.99</td>\n",
       "            </tr>\n",
       "            <tr>\n",
       "                        <th id=\"T_7c67d398_aad9_11ea_aa1b_a29bf5fdee78level0_row4\" class=\"row_heading level0 row4\" >108</th>\n",
       "                        <th id=\"T_7c67d398_aad9_11ea_aa1b_a29bf5fdee78level1_row4\" class=\"row_heading level1 row4\" >Extraction, Quickblade Of Trembling Hands</th>\n",
       "                        <td id=\"T_7c67d398_aad9_11ea_aa1b_a29bf5fdee78row4_col0\" class=\"data row4 col0\" >9</td>\n",
       "                        <td id=\"T_7c67d398_aad9_11ea_aa1b_a29bf5fdee78row4_col1\" class=\"data row4 col1\" >$3.53</td>\n",
       "                        <td id=\"T_7c67d398_aad9_11ea_aa1b_a29bf5fdee78row4_col2\" class=\"data row4 col2\" >$31.77</td>\n",
       "            </tr>\n",
       "    </tbody></table>"
      ],
      "text/plain": [
       "<pandas.io.formats.style.Styler at 0x15d939f4ac8>"
      ]
     },
     "execution_count": 13,
     "metadata": {},
     "output_type": "execute_result"
    }
   ],
   "source": [
    "items = purchase_data[[\"Item ID\", \"Item Name\", \"Price\"]]\n",
    "\n",
    "items_id = items.groupby([\"Item ID\", \"Item Name\"])\n",
    "\n",
    "\n",
    "\n",
    "items_purchase_count = items_id[\"Price\"].count()\n",
    "\n",
    "\n",
    "items_total_purchase_value = items_id[\"Price\"].sum()\n",
    "\n",
    "\n",
    "# individual item price\n",
    "item_price = items_total_purchase_value / items_purchase_count\n",
    "\n",
    "\n",
    "\n",
    "\n",
    "summary_popular_items = pd.DataFrame({\"Purchase Count\": items_purchase_count, \n",
    "                                      \"Item Price\": item_price,\n",
    "                                      \"Total Purchase Value\": items_total_purchase_value})\n",
    "\n",
    "\n",
    "\n",
    "\n",
    "popular_items = summary_popular_items.sort_values([\"Purchase Count\"], ascending=False).head()\n",
    "\n",
    "\n",
    "popular_items.style.format({\"Item Price\":\"${:,.2f}\",\n",
    "                                \"Total Purchase Value\":\"${:,.2f}\"})\n",
    "\n",
    "\n"
   ]
  },
  {
   "cell_type": "markdown",
   "metadata": {},
   "source": [
    "## Most Profitable Items"
   ]
  },
  {
   "cell_type": "code",
   "execution_count": 14,
   "metadata": {},
   "outputs": [
    {
     "data": {
      "text/html": [
       "<style  type=\"text/css\" >\n",
       "</style><table id=\"T_7cb5e038_aad9_11ea_bce2_a29bf5fdee78\" ><thead>    <tr>        <th class=\"blank\" ></th>        <th class=\"blank level0\" ></th>        <th class=\"col_heading level0 col0\" >Purchase Count</th>        <th class=\"col_heading level0 col1\" >Item Price</th>        <th class=\"col_heading level0 col2\" >Total Purchase Value</th>    </tr>    <tr>        <th class=\"index_name level0\" >Item ID</th>        <th class=\"index_name level1\" >Item Name</th>        <th class=\"blank\" ></th>        <th class=\"blank\" ></th>        <th class=\"blank\" ></th>    </tr></thead><tbody>\n",
       "                <tr>\n",
       "                        <th id=\"T_7cb5e038_aad9_11ea_bce2_a29bf5fdee78level0_row0\" class=\"row_heading level0 row0\" >92</th>\n",
       "                        <th id=\"T_7cb5e038_aad9_11ea_bce2_a29bf5fdee78level1_row0\" class=\"row_heading level1 row0\" >Final Critic</th>\n",
       "                        <td id=\"T_7cb5e038_aad9_11ea_bce2_a29bf5fdee78row0_col0\" class=\"data row0 col0\" >13</td>\n",
       "                        <td id=\"T_7cb5e038_aad9_11ea_bce2_a29bf5fdee78row0_col1\" class=\"data row0 col1\" >$4.61</td>\n",
       "                        <td id=\"T_7cb5e038_aad9_11ea_bce2_a29bf5fdee78row0_col2\" class=\"data row0 col2\" >$59.99</td>\n",
       "            </tr>\n",
       "            <tr>\n",
       "                        <th id=\"T_7cb5e038_aad9_11ea_bce2_a29bf5fdee78level0_row1\" class=\"row_heading level0 row1\" >178</th>\n",
       "                        <th id=\"T_7cb5e038_aad9_11ea_bce2_a29bf5fdee78level1_row1\" class=\"row_heading level1 row1\" >Oathbreaker, Last Hope of the Breaking Storm</th>\n",
       "                        <td id=\"T_7cb5e038_aad9_11ea_bce2_a29bf5fdee78row1_col0\" class=\"data row1 col0\" >12</td>\n",
       "                        <td id=\"T_7cb5e038_aad9_11ea_bce2_a29bf5fdee78row1_col1\" class=\"data row1 col1\" >$4.23</td>\n",
       "                        <td id=\"T_7cb5e038_aad9_11ea_bce2_a29bf5fdee78row1_col2\" class=\"data row1 col2\" >$50.76</td>\n",
       "            </tr>\n",
       "            <tr>\n",
       "                        <th id=\"T_7cb5e038_aad9_11ea_bce2_a29bf5fdee78level0_row2\" class=\"row_heading level0 row2\" >82</th>\n",
       "                        <th id=\"T_7cb5e038_aad9_11ea_bce2_a29bf5fdee78level1_row2\" class=\"row_heading level1 row2\" >Nirvana</th>\n",
       "                        <td id=\"T_7cb5e038_aad9_11ea_bce2_a29bf5fdee78row2_col0\" class=\"data row2 col0\" >9</td>\n",
       "                        <td id=\"T_7cb5e038_aad9_11ea_bce2_a29bf5fdee78row2_col1\" class=\"data row2 col1\" >$4.90</td>\n",
       "                        <td id=\"T_7cb5e038_aad9_11ea_bce2_a29bf5fdee78row2_col2\" class=\"data row2 col2\" >$44.10</td>\n",
       "            </tr>\n",
       "            <tr>\n",
       "                        <th id=\"T_7cb5e038_aad9_11ea_bce2_a29bf5fdee78level0_row3\" class=\"row_heading level0 row3\" >145</th>\n",
       "                        <th id=\"T_7cb5e038_aad9_11ea_bce2_a29bf5fdee78level1_row3\" class=\"row_heading level1 row3\" >Fiery Glass Crusader</th>\n",
       "                        <td id=\"T_7cb5e038_aad9_11ea_bce2_a29bf5fdee78row3_col0\" class=\"data row3 col0\" >9</td>\n",
       "                        <td id=\"T_7cb5e038_aad9_11ea_bce2_a29bf5fdee78row3_col1\" class=\"data row3 col1\" >$4.58</td>\n",
       "                        <td id=\"T_7cb5e038_aad9_11ea_bce2_a29bf5fdee78row3_col2\" class=\"data row3 col2\" >$41.22</td>\n",
       "            </tr>\n",
       "            <tr>\n",
       "                        <th id=\"T_7cb5e038_aad9_11ea_bce2_a29bf5fdee78level0_row4\" class=\"row_heading level0 row4\" >103</th>\n",
       "                        <th id=\"T_7cb5e038_aad9_11ea_bce2_a29bf5fdee78level1_row4\" class=\"row_heading level1 row4\" >Singed Scalpel</th>\n",
       "                        <td id=\"T_7cb5e038_aad9_11ea_bce2_a29bf5fdee78row4_col0\" class=\"data row4 col0\" >8</td>\n",
       "                        <td id=\"T_7cb5e038_aad9_11ea_bce2_a29bf5fdee78row4_col1\" class=\"data row4 col1\" >$4.35</td>\n",
       "                        <td id=\"T_7cb5e038_aad9_11ea_bce2_a29bf5fdee78row4_col2\" class=\"data row4 col2\" >$34.80</td>\n",
       "            </tr>\n",
       "    </tbody></table>"
      ],
      "text/plain": [
       "<pandas.io.formats.style.Styler at 0x15d9486f288>"
      ]
     },
     "execution_count": 14,
     "metadata": {},
     "output_type": "execute_result"
    }
   ],
   "source": [
    "popular_items = summary_popular_items.sort_values([\"Total Purchase Value\"], ascending=False).head()\n",
    "\n",
    "popular_items.style.format({\"Item Price\":\"${:,.2f}\",\n",
    "                            \"Total Purchase Value\":\"${:,.2f}\"})\n"
   ]
  },
  {
   "cell_type": "code",
   "execution_count": null,
   "metadata": {},
   "outputs": [],
   "source": []
  }
 ],
 "metadata": {
  "kernelspec": {
   "display_name": "Python [conda env:root] *",
   "language": "python",
   "name": "conda-root-py"
  },
  "language_info": {
   "codemirror_mode": {
    "name": "ipython",
    "version": 3
   },
   "file_extension": ".py",
   "mimetype": "text/x-python",
   "name": "python",
   "nbconvert_exporter": "python",
   "pygments_lexer": "ipython3",
   "version": "3.7.6"
  }
 },
 "nbformat": 4,
 "nbformat_minor": 4
}
